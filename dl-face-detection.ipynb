{
 "cells": [
  {
   "cell_type": "markdown",
   "id": "6d2aba7a-19bf-411d-932d-59ad351712c0",
   "metadata": {},
   "source": [
    "1. collecting and annotating images\n",
    "> - collect image from webcam, annotate(draw a bounding box) around our head using 'labelme' library\n",
    "> - 'labelme' can be used for bounding box, key point annotation, segmentation, etc.\n",
    "2. applying bounding box augmentation using 'albumentations'\n",
    "> - apply random cropping / changes to brightness / flips / gamma shifts and rgb shifts\n",
    "3. build a deep object detection model\n",
    ">VGG16\n",
    ">-classification model for classifying face -> result [0] or [1]\n",
    ">-regression model for estimating the coordinates for bounding box -> result [x1, y1, x2, y2]\n",
    "4. evaluating model performance\n",
    ">- binary cross entropy loss for face  classification\n",
    ">- localization loss for true value - predicted value of bounding box\n",
    "5. detect faces in real time"
   ]
  },
  {
   "cell_type": "markdown",
   "id": "30e80cb3-d74c-44a8-9eda-c2c4fb678153",
   "metadata": {},
   "source": [
    "# 1. Setup and Get Data"
   ]
  },
  {
   "cell_type": "markdown",
   "id": "16f324e1-e766-4498-ab73-40b11b24befb",
   "metadata": {},
   "source": [
    "### 1-1) Install dependencies and setup\n",
    "- labelme - https://github.com/wkentaro/labelme\n",
    "- albumentations - https://albumentations.ai/docs/"
   ]
  },
  {
   "cell_type": "code",
   "execution_count": 12,
   "id": "117162ac-caf9-479c-a016-271f107aa6cc",
   "metadata": {},
   "outputs": [
    {
     "name": "stdout",
     "output_type": "stream",
     "text": [
      "Requirement already satisfied: pip in /Users/ahyunshin/opt/anaconda3/lib/python3.8/site-packages (22.1.2)\n"
     ]
    }
   ],
   "source": [
    "!pip3 install --upgrade pip"
   ]
  },
  {
   "cell_type": "code",
   "execution_count": 9,
   "id": "8155ea9e-d217-47c3-bd70-7c74d6afeea0",
   "metadata": {},
   "outputs": [
    {
     "ename": "SyntaxError",
     "evalue": "invalid syntax (<ipython-input-9-a69c029a2bf8>, line 1)",
     "output_type": "error",
     "traceback": [
      "\u001b[0;36m  File \u001b[0;32m\"<ipython-input-9-a69c029a2bf8>\"\u001b[0;36m, line \u001b[0;32m1\u001b[0m\n\u001b[0;31m    python3 -m pip install --upgrade https://storage.googleapis.com/tensorflow/mac/cpu/tensorflow-1.12.0-py3-none-any.whl\u001b[0m\n\u001b[0m               ^\u001b[0m\n\u001b[0;31mSyntaxError\u001b[0m\u001b[0;31m:\u001b[0m invalid syntax\n"
     ]
    }
   ],
   "source": [
    "python3 -m pip install --upgrade https://storage.googleapis.com/tensorflow/mac/cpu/tensorflow-1.12.0-py3-none-any.whl"
   ]
  },
  {
   "cell_type": "code",
   "execution_count": 13,
   "id": "0b606cdf-55f8-4ee3-8fd2-8a3d9acc8a7c",
   "metadata": {},
   "outputs": [
    {
     "name": "stdout",
     "output_type": "stream",
     "text": [
      "Collecting labelme\n",
      "  Using cached labelme-5.0.1.tar.gz (1.5 MB)\n",
      "  Preparing metadata (setup.py) ... \u001b[?25ldone\n",
      "\u001b[?25hCollecting tensorflow\n",
      "  Using cached tensorflow-2.9.1-cp38-cp38-macosx_10_14_x86_64.whl (228.5 MB)\n",
      "\u001b[31mERROR: Could not find a version that satisfies the requirement tensorflow-gpu (from versions: none)\u001b[0m\u001b[31m\n",
      "\u001b[0m\u001b[31mERROR: No matching distribution found for tensorflow-gpu\u001b[0m\u001b[31m\n",
      "\u001b[0m"
     ]
    }
   ],
   "source": [
    "!pip3 install labelme tensorflow tensorflow-gpu opencv-python matplotlib albumentations"
   ]
  },
  {
   "cell_type": "markdown",
   "id": "a7ebdaf8-2ed9-4a84-bec0-61458683edf2",
   "metadata": {},
   "source": [
    "### 1-2) Collect images using OpenCV"
   ]
  },
  {
   "cell_type": "code",
   "execution_count": 3,
   "id": "181d54d5-7088-4bc1-821f-719ee432fd27",
   "metadata": {},
   "outputs": [
    {
     "data": {
      "text/plain": [
       "'3.8.8 (default, Apr 13 2021, 12:59:45) \\n[Clang 10.0.0 ]'"
      ]
     },
     "execution_count": 3,
     "metadata": {},
     "output_type": "execute_result"
    }
   ],
   "source": [
    "import sys\n",
    "sys.version"
   ]
  },
  {
   "cell_type": "code",
   "execution_count": 14,
   "id": "fa5114d2-1138-41ca-9def-b805f1c20d4a",
   "metadata": {},
   "outputs": [
    {
     "data": {
      "text/plain": [
       "'3.8.8'"
      ]
     },
     "execution_count": 14,
     "metadata": {},
     "output_type": "execute_result"
    }
   ],
   "source": [
    "from platform import python_version\n",
    "python_version()"
   ]
  },
  {
   "cell_type": "code",
   "execution_count": 5,
   "id": "fb4019bf-df05-4b3e-b7d3-b49d6c4f003b",
   "metadata": {},
   "outputs": [
    {
     "name": "stdout",
     "output_type": "stream",
     "text": [
      "64\n"
     ]
    }
   ],
   "source": [
    "import struct\n",
    "print(struct.calcsize(\"P\") * 8)"
   ]
  },
  {
   "cell_type": "code",
   "execution_count": null,
   "id": "70784b0a-8d17-4664-a300-bd5a0be59190",
   "metadata": {},
   "outputs": [],
   "source": []
  }
 ],
 "metadata": {
  "kernelspec": {
   "display_name": "Python 3",
   "language": "python",
   "name": "python3"
  },
  "language_info": {
   "codemirror_mode": {
    "name": "ipython",
    "version": 3
   },
   "file_extension": ".py",
   "mimetype": "text/x-python",
   "name": "python",
   "nbconvert_exporter": "python",
   "pygments_lexer": "ipython3",
   "version": "3.8.8"
  }
 },
 "nbformat": 4,
 "nbformat_minor": 5
}
